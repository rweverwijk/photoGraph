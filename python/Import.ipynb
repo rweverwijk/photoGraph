{
 "cells": [
  {
   "cell_type": "code",
   "execution_count": null,
   "metadata": {
    "collapsed": false
   },
   "outputs": [],
   "source": [
    "from neo4j.v1 import GraphDatabase, basic_auth \n",
    "driver = GraphDatabase.driver('bolt://localhost', auth=basic_auth('neo4j', 'test'))\n",
    "\n",
    "import json\n",
    "import os\n",
    "from datetime import datetime\n",
    "\n",
    "photo_base_dir = '/Users/rvanweverwijk/Pictures/2016'\n",
    "thumbnail_base_dir = '/Users/rvanweverwijk/Pictures/thumbnails'\n",
    "\n",
    "# watch(\"httpstream\")\n"
   ]
  },
  {
   "cell_type": "code",
   "execution_count": null,
   "metadata": {
    "collapsed": false
   },
   "outputs": [],
   "source": [
    "session = driver.session()\n",
    "session.run(\"MERGE (d:Directory {name:'\" + photo_base_dir + \"'})\")\n",
    "session.close()"
   ]
  },
  {
   "cell_type": "code",
   "execution_count": null,
   "metadata": {
    "collapsed": false
   },
   "outputs": [],
   "source": [
    "session = driver.session()\n",
    "result = session.run('MATCH (d:Directory) RETURN d.name AS name')\n",
    "for record in result:\n",
    "    print(record[\"name\"])\n",
    "session.close()\n"
   ]
  },
  {
   "cell_type": "code",
   "execution_count": null,
   "metadata": {
    "collapsed": false
   },
   "outputs": [],
   "source": [
    "ignored_files = ['.DS_Store']\n",
    "\n",
    "def get_current_time() :\n",
    "    now = datetime.now()\n",
    "    return int(now.strftime('%Y%m%d%H%M%S'))\n",
    "\n",
    "def update_directory_structure(current_time):\n",
    "    add_directories(current_time)\n",
    "    delete_non_existing_directories(current_time)\n",
    "    add_photos(current_time)\n",
    "    delete_non_existing_photos(current_time)\n",
    "    update_modification_times()\n",
    "    tag_new_photos()\n",
    "\n",
    "def create_directory_query(path, current_time):\n",
    "    query = 'MERGE (root:Directory {name: \"'+ photo_base_dir + '\"})\\nCREATE UNIQUE path = (root)'\n",
    "    current_path = ''\n",
    "    for dir in path:\n",
    "        current_path = current_path + '/' + dir\n",
    "        query = query + '-[:HAS_DIR]->(:Directory {name: \"' + dir + '\", fullPath: \"' + current_path + '\"})'\n",
    "    query = query + '\\nwith nodes(path) as dirs\\nunwind dirs as dir\\nset dir._lastModified = toInt(' + str(current_time) + ')'\n",
    "    return query\n",
    "\n",
    "def create_photo_query():\n",
    "    query = '''\n",
    "            MATCH (d:Directory {fullPath: {fullDirectoryPath}})\\n\n",
    "            MERGE (p:Photo {name:{fileName}, directory: {fullDirectoryPath}})\\n\n",
    "            set p._lastModified = {currentTime}\\n\n",
    "            MERGE (d)-[:CONTAINS_PHOTO]->(p)\n",
    "    '''\n",
    "    return query\n",
    "\n",
    "def update_modification_times():\n",
    "    print('update modification times')\n",
    "    session = driver.session()\n",
    "    session.run('match (d:Directory) set d._timesModified = coalesce(d._timesModified, 0) + 1')\n",
    "    session.run('match (p:Photo) set p._timesModified = coalesce(p._timesModified, 0) + 1')\n",
    "    session.close()\n",
    "    \n",
    "def add_directories(current_time):\n",
    "    print('add directories({0})'.format(current_time))\n",
    "    session = driver.session()\n",
    "    with session.begin_transaction() as tx:\n",
    "        for root, dirs, files in os.walk(photo_base_dir):\n",
    "            if not dirs:\n",
    "                path = root.replace(photo_base_dir + '/', '').split('/')\n",
    "                tx.run(create_directory_query(path, current_time))\n",
    "        tx.success = True\n",
    "    session.close()\n",
    "        \n",
    "def add_photos(current_time):\n",
    "    print('add photos({0})'.format(current_time))\n",
    "    session = driver.session()\n",
    "    with session.begin_transaction() as tx:\n",
    "        for root, dirs, files in os.walk(photo_base_dir):\n",
    "            path = root.replace(photo_base_dir, '')\n",
    "            for file in files: \n",
    "                if (file not in ignored_files):\n",
    "                    result = tx.run(statement=create_photo_query(),parameters={'currentTime': current_time, 'fullDirectoryPath': path, 'fileName': file})\n",
    "        tx.success = True\n",
    "    session.close()\n",
    "    \n",
    "def tag_new_photos():\n",
    "    print('tag new photos')\n",
    "    session = driver.session()\n",
    "    result = session.run('''match (p:Photo {_timesModified: 1})\n",
    "        with p, filter(tag in split(p.directory, \"/\") where tag <> \"\") as tags\n",
    "        unwind tags as tag\n",
    "        MERGE (t:Tag {name: tag})\n",
    "        create (p)-[:HAS_TAG]->(t)''')\n",
    "    sum = result.consume().counters\n",
    "    print(sum)\n",
    "    session.close()\n",
    "\n",
    "def delete_non_existing_directories(current_time) :\n",
    "    print('delete directories({0})'.format(current_time))\n",
    "    session = driver.session()\n",
    "    with session.begin_transaction() as tx:\n",
    "        result = tx.run(statement='''match (d:Directory)\n",
    "            where d._lastModified < {currentTime}\n",
    "            with d\n",
    "            optional match (d)-[:CONTAINS_PHOTO]->(p:Photo)\n",
    "            detach delete d,p''', parameters={'currentTime': current_time})\n",
    "        sum = result.consume().counters\n",
    "        print(sum)\n",
    "        tx.success = True\n",
    "    session.close\n",
    "\n",
    "def delete_non_existing_photos(current_time) :\n",
    "    print('delete photos({0})'.format(current_time))\n",
    "    session = driver.session()\n",
    "    with session.begin_transaction() as tx:\n",
    "        result = tx.run(statement='match (p:Photo) where p._lastModified < {currentTime} detach delete p', parameters={'currentTime': current_time})\n",
    "        sum = result.consume().counters\n",
    "        print(sum)\n",
    "        tx.success = True\n",
    "    session.close"
   ]
  },
  {
   "cell_type": "code",
   "execution_count": null,
   "metadata": {
    "collapsed": false
   },
   "outputs": [],
   "source": [
    "current_time = get_current_time()\n",
    "update_directory_structure(current_time)"
   ]
  },
  {
   "cell_type": "code",
   "execution_count": null,
   "metadata": {
    "collapsed": false
   },
   "outputs": [],
   "source": [
    "current_time"
   ]
  },
  {
   "cell_type": "markdown",
   "metadata": {
    "collapsed": true
   },
   "source": [
    "## resize image"
   ]
  },
  {
   "cell_type": "code",
   "execution_count": null,
   "metadata": {
    "collapsed": true
   },
   "outputs": [],
   "source": [
    "flickrSize = {\n",
    "  8: {'name': 's', 'size': (75, 75)},\n",
    "  7: {'name': 't', 'size': (100, 100)},\n",
    "  6: {'name': 'q', 'size': (150, 150)},\n",
    "  5: {'name': 'm', 'size': (240, 240)},\n",
    "  4: {'name': 'n', 'size': (320, 320)},\n",
    "  3: {'name': 'z', 'size': (640, 640)},\n",
    "  2: {'name': 'c', 'size': (800, 800)},\n",
    "  1: {'name': 'b', 'size': (1024, 1024)}\n",
    "}\n",
    "\n",
    "from PIL import Image\n",
    "import glob, os\n",
    "\n",
    "def create_directory(directory):\n",
    "    if not os.path.exists(directory):\n",
    "        os.makedirs(directory)\n",
    "\n",
    "def make_thumbnails(local_path):\n",
    "    print local_path\n",
    "    create_directory(os.path.dirname(thumbnail_base_dir + local_path))\n",
    "    im = Image.open(photo_base_dir + local_path)\n",
    "    for key in sorted(flickrSize):\n",
    "        file, ext = os.path.splitext(local_path)\n",
    "        thumbnail_filename = thumbnail_base_dir + file + '_' + flickrSize[key]['name'] + ext\n",
    "        if (os.path.exists(thumbnail_filename)):\n",
    "            break;\n",
    "        im.thumbnail(flickrSize[key]['size'])\n",
    "        im.save(thumbnail_filename, \"JPEG\")"
   ]
  },
  {
   "cell_type": "code",
   "execution_count": null,
   "metadata": {
    "collapsed": false
   },
   "outputs": [],
   "source": [
    "for infile in glob.glob(photo_base_dir + '/uitzoeken/*.JPG'):\n",
    "    make_thumbnails(infile.replace(photo_base_dir, ''))"
   ]
  },
  {
   "cell_type": "code",
   "execution_count": null,
   "metadata": {
    "collapsed": false
   },
   "outputs": [],
   "source": [
    "session = driver.session()\n",
    "with session.begin_transaction() as tx:\n",
    "    result = tx.run(statement='''match (p:Photo) where not EXISTS(p.thumbnail) return id(p) as photoId, p.directory + '/' + p.name as local_path limit 10000''')\n",
    "    for row in result:\n",
    "        local_path = row['local_path']\n",
    "        photo_id = row['photoId']\n",
    "        file, ext = os.path.splitext(local_path)\n",
    "        if (ext == '.JPG'):\n",
    "            make_thumbnails(local_path)\n",
    "            update_result = tx.run(statement='''match (p:Photo) where id(p) = {photoId} set p.thumbnail = true''', parameters={'photoId': photo_id})\n",
    "#             sum = update_result.consume().counters\n",
    "#             print(sum)\n",
    "    tx.success = True\n",
    "session.close()"
   ]
  },
  {
   "cell_type": "code",
   "execution_count": null,
   "metadata": {
    "collapsed": true
   },
   "outputs": [],
   "source": []
  }
 ],
 "metadata": {
  "kernelspec": {
   "display_name": "Python 2",
   "language": "python",
   "name": "python2"
  },
  "language_info": {
   "codemirror_mode": {
    "name": "ipython",
    "version": 2
   },
   "file_extension": ".py",
   "mimetype": "text/x-python",
   "name": "python",
   "nbconvert_exporter": "python",
   "pygments_lexer": "ipython2",
   "version": "2.7.13"
  }
 },
 "nbformat": 4,
 "nbformat_minor": 0
}
