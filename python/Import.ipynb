{
 "cells": [
  {
   "cell_type": "code",
   "execution_count": 1,
   "metadata": {
    "collapsed": false
   },
   "outputs": [],
   "source": [
    "from neo4j.v1 import GraphDatabase, basic_auth \n",
    "driver = GraphDatabase.driver(\"bolt://localhost\", auth=basic_auth(\"neo4j\", \"test\"))\n",
    "\n",
    "import json\n",
    "import os\n",
    "from datetime import datetime\n",
    "\n",
    "photo_base_dir = '/Users/rvanweverwijk/Pictures/2016'\n",
    "\n",
    "# watch(\"httpstream\")\n"
   ]
  },
  {
   "cell_type": "code",
   "execution_count": 150,
   "metadata": {
    "collapsed": false
   },
   "outputs": [],
   "source": [
    "session = driver.session()\n",
    "session.run(\"MERGE (d:Directory {name:'\" + photo_base_dir + \"'})\")\n",
    "session.close()"
   ]
  },
  {
   "cell_type": "code",
   "execution_count": 151,
   "metadata": {
    "collapsed": false
   },
   "outputs": [
    {
     "name": "stdout",
     "output_type": "stream",
     "text": [
      "/Users/rvanweverwijk/Pictures/2016\n"
     ]
    }
   ],
   "source": [
    "session = driver.session()\n",
    "result = session.run(\"MATCH (d:Directory) RETURN d.name AS name\")\n",
    "for record in result:\n",
    "    print(record[\"name\"])\n",
    "session.close()\n"
   ]
  },
  {
   "cell_type": "code",
   "execution_count": 159,
   "metadata": {
    "collapsed": false
   },
   "outputs": [],
   "source": [
    "ignored_files = [\".DS_Store\"]\n",
    "\n",
    "def get_current_time() :\n",
    "    now = datetime.now()\n",
    "    return int(now.strftime(\"%Y%m%d%H%M%S\"))\n",
    "\n",
    "def update_directory_structure(current_time):\n",
    "    add_directories(current_time)\n",
    "    update_modification_times()\n",
    "    delete_non_existing_directories(current_time)\n",
    "    add_photos(current_time)\n",
    "    delete_non_existing_photos(current_time)\n",
    "\n",
    "def create_directory_query(path, current_time):\n",
    "    query = 'MERGE (root:Directory {name: \"'+ photo_base_dir + '\"})\\nCREATE UNIQUE path = (root)'\n",
    "    current_path = ''\n",
    "    for dir in path:\n",
    "        current_path = current_path + '/' + dir\n",
    "        query = query + '-[:HAS_DIR]->(:Directory {name: \"' + dir + '\", fullPath: \"' + current_path + '\"})'\n",
    "    query = query + '\\nwith nodes(path) as dirs\\nunwind dirs as dir\\nset dir._lastModified = toInt(' + str(current_time) + ')'\n",
    "    return query\n",
    "\n",
    "def create_photo_query():\n",
    "    query = '''\n",
    "            MATCH (d:Directory {fullPath: {fullDirectoryPath}})\\n\n",
    "            MERGE (p:Photo {name:{fileName}, directory: {fullDirectoryPath}})\\n\n",
    "            set p._lastModified = {currentTime}\\n\n",
    "            MERGE (d)-[:CONTAINS_PHOTO]->(p)\n",
    "    '''\n",
    "    return query\n",
    "\n",
    "def update_modification_times():\n",
    "    session = driver.session()\n",
    "    session.run('match (d:Directory) set d._timesModified = coalesce(d._timesModified, 0) + 1')\n",
    "    session.close()\n",
    "    \n",
    "def add_directories(current_time):\n",
    "    session = driver.session()\n",
    "    with session.begin_transaction() as tx:\n",
    "        for root, dirs, files in os.walk(photo_base_dir):\n",
    "            if not dirs:\n",
    "                path = root.replace(photo_base_dir + '/', '').split('/')\n",
    "                tx.run(create_directory_query(path, current_time))\n",
    "        tx.success = True\n",
    "    session.close()\n",
    "        \n",
    "def add_photos(current_time):\n",
    "    print(\"add photos\")\n",
    "    session = driver.session()\n",
    "    with session.begin_transaction() as tx:\n",
    "        for root, dirs, files in os.walk(photo_base_dir):\n",
    "            path = root.replace(photo_base_dir, '')\n",
    "            for file in files: \n",
    "                if (file not in ignored_files):\n",
    "                    result = tx.run(statement=create_photo_query(),parameters={\"currentTime\": current_time, \"fullDirectoryPath\": path, \"fileName\": file})\n",
    "        tx.success = True\n",
    "    session.close()\n",
    "\n",
    "def delete_non_existing_directories(current_time) :\n",
    "    print(\"delete directories\")\n",
    "    session = driver.session()\n",
    "    with session.begin_transaction() as tx:\n",
    "        result = tx.run(statement='match (d:Directory) where d._lastModified < {currentTime} detach delete d', parameters={\"currentTime\": current_time})\n",
    "        sum = result.consume().counters\n",
    "        print(sum)\n",
    "        tx.success = True\n",
    "    session.close\n",
    "\n",
    "def delete_non_existing_photos(current_time) :\n",
    "    print(\"delete photos\")\n",
    "    session = driver.session()\n",
    "    with session.begin_transaction() as tx:\n",
    "        result = tx.run(statement='match (p:Photo) where p._lastModified < {currentTime} detach delete p', parameters={\"currentTime\": current_time})\n",
    "        sum = result.consume().counters\n",
    "        print(sum)\n",
    "        tx.success = True\n",
    "    session.close"
   ]
  },
  {
   "cell_type": "code",
   "execution_count": 161,
   "metadata": {
    "collapsed": false
   },
   "outputs": [
    {
     "name": "stdout",
     "output_type": "stream",
     "text": [
      "delete directories\n",
      "{}\n",
      "add photos\n",
      "delete photos\n",
      "{}\n"
     ]
    }
   ],
   "source": [
    "current_time = get_current_time()\n",
    "update_directory_structure(current_time)\n"
   ]
  },
  {
   "cell_type": "code",
   "execution_count": 89,
   "metadata": {
    "collapsed": false
   },
   "outputs": [
    {
     "data": {
      "text/plain": [
       "20160930123232"
      ]
     },
     "execution_count": 89,
     "metadata": {},
     "output_type": "execute_result"
    }
   ],
   "source": [
    "current_time"
   ]
  },
  {
   "cell_type": "code",
   "execution_count": null,
   "metadata": {
    "collapsed": true
   },
   "outputs": [],
   "source": []
  }
 ],
 "metadata": {
  "kernelspec": {
   "display_name": "Python 3",
   "language": "python",
   "name": "python3"
  },
  "language_info": {
   "codemirror_mode": {
    "name": "ipython",
    "version": 3
   },
   "file_extension": ".py",
   "mimetype": "text/x-python",
   "name": "python",
   "nbconvert_exporter": "python",
   "pygments_lexer": "ipython3",
   "version": "3.5.1"
  }
 },
 "nbformat": 4,
 "nbformat_minor": 0
}
