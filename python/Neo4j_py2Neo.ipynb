{
 "cells": [
  {
   "cell_type": "code",
   "execution_count": 3,
   "metadata": {
    "collapsed": true
   },
   "outputs": [],
   "source": [
    "import json\n",
    "from neo4j.v1 import GraphDatabase\n",
    "driver = GraphDatabase.driver(\"bolt://localhost\")\n",
    "\n",
    "\n",
    "# watch(\"httpstream\")"
   ]
  },
  {
   "cell_type": "code",
   "execution_count": 4,
   "metadata": {
    "collapsed": false,
    "scrolled": true
   },
   "outputs": [],
   "source": [
    "session = driver.session()\n",
    "cursor = session.run(\"MATCH (t:Tag) RETURN t ORDER BY t.name\")\n",
    "while cursor.next():\n",
    "    print(cursor[\"name\"])\n",
    "cursor.close()\n",
    "session.close()"
   ]
  },
  {
   "cell_type": "code",
   "execution_count": 20,
   "metadata": {
    "collapsed": false
   },
   "outputs": [
    {
     "name": "stdout",
     "output_type": "stream",
     "text": [
      "[{\"name\": \"01-januari\"}, {\"name\": \"Fortissimo_viko_zaal\"}, {\"name\": \"jpg\"}, {\"name\": \"jpg-thunb\"}, {\"name\": \"shoot\"}, {\"name\": \"thumb\"}, {\"name\": \"uitnodiging_5jaar_getrouwd\"}, {\"name\": \"uitzoeken!\"}, {\"name\": \"verjaardag\"}]\n"
     ]
    }
   ],
   "source": [
    "def get_tags():\n",
    "    query_result = graph.cypher.execute('MATCH (t:Tag) RETURN t.name as name ORDER BY name')\n",
    "    tags = []\n",
    "    for record in query_result:\n",
    "        tags.append({'name': record.t['name']})\n",
    "    return json.dumps(tags)\n",
    "\n",
    "print(get_tags())"
   ]
  },
  {
   "cell_type": "code",
   "execution_count": 26,
   "metadata": {
    "collapsed": false,
    "scrolled": false
   },
   "outputs": [
    {
     "name": "stdout",
     "output_type": "stream",
     "text": [
      "[{\"name\": \"\"}, {\"name\": \"Users\"}, {\"name\": \"rvanweverwijk\"}, {\"name\": \"Pictures\"}, {\"name\": \"collegas\"}, {\"name\": \"2014\"}, {\"name\": \"03_maart\"}, {\"name\": \"04_april\"}, {\"name\": \"05-24-fortissimo\"}, {\"name\": \"09_september\"}, {\"name\": \"05_mei\"}, {\"name\": \"jpg\"}, {\"name\": \"shoot Miriam\"}, {\"name\": \"06_juni\"}, {\"name\": \"zwanger\"}, {\"name\": \"2015\"}, {\"name\": \"lindy\"}, {\"name\": \"last_import\"}, {\"name\": \"01-januari\"}, {\"name\": \"12_december\"}, {\"name\": \"uitnodiging_5jaar_getrouwd\"}, {\"name\": \"uitzoeken!\"}, {\"name\": \"koningsdag\"}, {\"name\": \"Geboorte Jet\"}, {\"name\": \"Geboorte\"}, {\"name\": \"bezoek\"}, {\"name\": \"nieuw\"}, {\"name\": \"overig\"}, {\"name\": \"korfbal\"}, {\"name\": \"Fortissimo_viko_zaal\"}, {\"name\": \"kerst\"}, {\"name\": \"vakantie\"}, {\"name\": \"centerparks\"}, {\"name\": \"zendmast\"}, {\"name\": \"neo4j\"}, {\"name\": \"meetup\"}, {\"name\": \"zomer\"}, {\"name\": \"italie\"}, {\"name\": \"shoot\"}, {\"name\": \"verjaardag\"}, {\"name\": \"jpg-thunb\"}, {\"name\": \"thumb\"}]\n"
     ]
    }
   ],
   "source": [
    "def get_tags():\n",
    "    tags = []\n",
    "    for tag in graph.find(\"Tag\"):\n",
    "        tags.append({'name': tag['name']})\n",
    "    return json.dumps(tags)\n",
    "\n",
    "print(get_tags())"
   ]
  },
  {
   "cell_type": "code",
   "execution_count": 15,
   "metadata": {
    "collapsed": false,
    "scrolled": true
   },
   "outputs": [
    {
     "name": "stdout",
     "output_type": "stream",
     "text": [
      "[{\"directory\": \"Fortissimo_viko_zaal\", \"tags\": [\"Fortissimo_viko_zaal\"], \"fileName\": \"IMG_6891.JPG\"}, {\"directory\": \"Fortissimo_viko_zaal/jpg\", \"tags\": [\"jpg\", \"Fortissimo_viko_zaal\"], \"fileName\": \"150321-IMG_6945.jpg\"}, {\"directory\": \"01-januari\", \"tags\": [\"01-januari\"], \"fileName\": \"IMG_6374.JPG\"}, {\"directory\": \"Fortissimo_viko_zaal\", \"tags\": [\"Fortissimo_viko_zaal\"], \"fileName\": \"IMG_6856.JPG\"}, {\"directory\": \"01-januari\", \"tags\": [\"01-januari\"], \"fileName\": \"IMG_6383.JPG\"}, {\"directory\": \"01-januari\", \"tags\": [\"01-januari\"], \"fileName\": \"IMG_6392.JPG\"}, {\"directory\": \"Fortissimo_viko_zaal/jpg/thumb\", \"tags\": [\"thumb\", \"jpg\", \"Fortissimo_viko_zaal\"], \"fileName\": \"150321-IMG_7009.jpg\"}, {\"directory\": \"uitzoeken!\", \"tags\": [\"uitzoeken!\"], \"fileName\": \"IMG_6596.JPG\"}, {\"directory\": \"Fortissimo_viko_zaal/jpg\", \"tags\": [\"Fortissimo_viko_zaal\", \"jpg\"], \"fileName\": \"150321-IMG_6820.jpg\"}, {\"directory\": \"01-januari\", \"tags\": [\"01-januari\"], \"fileName\": \"IMG_6255.JPG\"}, {\"directory\": \"Fortissimo_viko_zaal\", \"tags\": [\"Fortissimo_viko_zaal\"], \"fileName\": \"IMG_6738.JPG\"}, {\"directory\": \"01-januari/verjaardag/shoot\", \"tags\": [\"verjaardag\", \"shoot\", \"01-januari\"], \"fileName\": \"IMG_6207.JPG\"}, {\"directory\": \"01-januari/verjaardag/shoot\", \"tags\": [\"01-januari\", \"verjaardag\", \"shoot\"], \"fileName\": \"IMG_6174.JPG\"}, {\"directory\": \"Fortissimo_viko_zaal/jpg\", \"tags\": [\"Fortissimo_viko_zaal\", \"jpg\"], \"fileName\": \"150321-IMG_6917.jpg\"}, {\"directory\": \"Fortissimo_viko_zaal\", \"tags\": [\"Fortissimo_viko_zaal\"], \"fileName\": \"IMG_6830.JPG\"}, {\"directory\": \"Fortissimo_viko_zaal/jpg\", \"tags\": [\"jpg\", \"Fortissimo_viko_zaal\"], \"fileName\": \"150321-IMG_6882.jpg\"}, {\"directory\": \"01-januari\", \"tags\": [\"01-januari\"], \"fileName\": \"IMG_6264.JPG\"}, {\"directory\": \"Fortissimo_viko_zaal/jpg\", \"tags\": [\"jpg\", \"Fortissimo_viko_zaal\"], \"fileName\": \"150321-IMG_6935.jpg\"}, {\"directory\": \"Fortissimo_viko_zaal\", \"tags\": [\"Fortissimo_viko_zaal\"], \"fileName\": \"IMG_6841.JPG\"}, {\"directory\": \"01-januari\", \"tags\": [\"01-januari\"], \"fileName\": \"IMG_6338.JPG\"}, {\"directory\": \"01-januari\", \"tags\": [\"01-januari\"], \"fileName\": \"IMG_6347.JPG\"}, {\"directory\": \"Fortissimo_viko_zaal/jpg/thumb\", \"tags\": [\"jpg\", \"thumb\", \"Fortissimo_viko_zaal\"], \"fileName\": \"150321-IMG_6960.jpg\"}, {\"directory\": \"01-januari/verjaardag/shoot\", \"tags\": [\"shoot\", \"01-januari\", \"verjaardag\"], \"fileName\": \"IMG_6059.JPG\"}, {\"directory\": \"Fortissimo_viko_zaal/jpg/thumb\", \"tags\": [\"jpg\", \"thumb\", \"Fortissimo_viko_zaal\"], \"fileName\": \"150321-IMG_7000.jpg\"}, {\"directory\": \"01-januari/verjaardag/shoot\", \"tags\": [\"verjaardag\", \"shoot\", \"01-januari\"], \"fileName\": \"IMG_6068.JPG\"}, {\"directory\": \"uitzoeken!\", \"tags\": [\"uitzoeken!\"], \"fileName\": \"IMG_6549.JPG\"}, {\"directory\": \"Fortissimo_viko_zaal/jpg\", \"tags\": [\"jpg\", \"Fortissimo_viko_zaal\"], \"fileName\": \"150321-IMG_6747.jpg\"}, {\"directory\": \"01-januari/verjaardag/shoot/jpg\", \"tags\": [\"jpg\", \"shoot\", \"verjaardag\", \"01-januari\"], \"fileName\": \"150103-IMG_6150.jpg\"}, {\"directory\": \"01-januari/verjaardag/shoot\", \"tags\": [\"shoot\", \"verjaardag\", \"01-januari\"], \"fileName\": \"IMG_6147.JPG\"}, {\"directory\": \"01-januari/verjaardag/shoot\", \"tags\": [\"verjaardag\", \"01-januari\", \"shoot\"], \"fileName\": \"IMG_6080.JPG\"}, {\"directory\": \"Fortissimo_viko_zaal/jpg\", \"tags\": [\"Fortissimo_viko_zaal\", \"jpg\"], \"fileName\": \"150321-IMG_6759.jpg\"}, {\"directory\": \"uitzoeken!\", \"tags\": [\"uitzoeken!\"], \"fileName\": \"IMG_6559.JPG\"}, {\"directory\": \"01-januari/verjaardag/shoot\", \"tags\": [\"verjaardag\", \"01-januari\", \"shoot\"], \"fileName\": \"IMG_6156.JPG\"}, {\"directory\": \"01-januari/verjaardag/shoot\", \"tags\": [\"01-januari\", \"shoot\", \"verjaardag\"], \"fileName\": \"IMG_6129.JPG\"}, {\"directory\": \"Fortissimo_viko_zaal/jpg\", \"tags\": [\"Fortissimo_viko_zaal\", \"jpg\"], \"fileName\": \"150321-IMG_6857.jpg\"}, {\"directory\": \"01-januari\", \"tags\": [\"01-januari\"], \"fileName\": \"IMG_6246.JPG\"}, {\"directory\": \"uitzoeken!\", \"tags\": [\"uitzoeken!\"], \"fileName\": \"IMG_6568.JPG\"}, {\"directory\": \"Fortissimo_viko_zaal\", \"tags\": [\"Fortissimo_viko_zaal\"], \"fileName\": \"IMG_6809.JPG\"}, {\"directory\": \"01-januari/verjaardag/shoot\", \"tags\": [\"shoot\", \"verjaardag\", \"01-januari\"], \"fileName\": \"IMG_6165.JPG\"}, {\"directory\": \"Fortissimo_viko_zaal/jpg\", \"tags\": [\"jpg\", \"Fortissimo_viko_zaal\"], \"fileName\": \"150321-IMG_6907.jpg\"}, {\"directory\": \"Fortissimo_viko_zaal\", \"tags\": [\"Fortissimo_viko_zaal\"], \"fileName\": \"IMG_6819.JPG\"}, {\"directory\": \"Fortissimo_viko_zaal/jpg\", \"tags\": [\"Fortissimo_viko_zaal\", \"jpg\"], \"fileName\": \"150321-IMG_6866.jpg\"}, {\"directory\": \"01-januari\", \"tags\": [\"01-januari\"], \"fileName\": \"IMG_6320.JPG\"}, {\"directory\": \"Fortissimo_viko_zaal\", \"tags\": [\"Fortissimo_viko_zaal\"], \"fileName\": \"IMG_6779.JPG\"}, {\"directory\": \"01-januari\", \"tags\": [\"01-januari\"], \"fileName\": \"IMG_6292.JPG\"}, {\"directory\": \"01-januari\", \"tags\": [\"01-januari\"], \"fileName\": \"IMG_6301.JPG\"}, {\"directory\": \"01-januari\", \"tags\": [\"01-januari\"], \"fileName\": \"IMG_6329.JPG\"}, {\"directory\": \"Fortissimo_viko_zaal\", \"tags\": [\"Fortissimo_viko_zaal\"], \"fileName\": \"IMG_6793.JPG\"}, {\"directory\": \"Fortissimo_viko_zaal/jpg/thumb\", \"tags\": [\"Fortissimo_viko_zaal\", \"jpg\", \"thumb\"], \"fileName\": \"150321-IMG_6939.jpg\"}, {\"directory\": \"Fortissimo_viko_zaal/jpg/thumb\", \"tags\": [\"thumb\", \"Fortissimo_viko_zaal\", \"jpg\"], \"fileName\": \"150321-IMG_6948.jpg\"}, {\"directory\": \"01-januari/verjaardag/shoot\", \"tags\": [\"shoot\", \"01-januari\", \"verjaardag\"], \"fileName\": \"IMG_6023.JPG\"}, {\"directory\": \"Fortissimo_viko_zaal/jpg/thumb\", \"tags\": [\"thumb\", \"Fortissimo_viko_zaal\", \"jpg\"], \"fileName\": \"150321-IMG_7029.jpg\"}, {\"directory\": \"01-januari/verjaardag/shoot\", \"tags\": [\"01-januari\", \"verjaardag\", \"shoot\"], \"fileName\": \"IMG_6032.JPG\"}, {\"directory\": \"Fortissimo_viko_zaal/jpg\", \"tags\": [\"jpg\", \"Fortissimo_viko_zaal\"], \"fileName\": \"150321-IMG_6738.jpg\"}, {\"directory\": \"Fortissimo_viko_zaal/jpg/thumb\", \"tags\": [\"Fortissimo_viko_zaal\", \"jpg\", \"thumb\"], \"fileName\": \"150321-IMG_7070.jpg\"}, {\"directory\": \"Fortissimo_viko_zaal/jpg/thumb\", \"tags\": [\"thumb\", \"jpg\", \"Fortissimo_viko_zaal\"], \"fileName\": \"150321-IMG_7039.jpg\"}, {\"directory\": \"01-januari/verjaardag/shoot\", \"tags\": [\"shoot\", \"01-januari\", \"verjaardag\"], \"fileName\": \"IMG_6138.JPG\"}, {\"directory\": \"Fortissimo_viko_zaal/jpg\", \"tags\": [\"jpg\", \"Fortissimo_viko_zaal\"], \"fileName\": \"150321-IMG_6831.jpg\"}, {\"directory\": \"01-januari/verjaardag/shoot\", \"tags\": [\"01-januari\", \"verjaardag\", \"shoot\"], \"fileName\": \"IMG_6108.JPG\"}, {\"directory\": \"Fortissimo_viko_zaal\", \"tags\": [\"Fortissimo_viko_zaal\"], \"fileName\": \"IMG_6747.JPG\"}, {\"directory\": \"Fortissimo_viko_zaal/jpg\", \"tags\": [\"Fortissimo_viko_zaal\", \"jpg\"], \"fileName\": \"150321-IMG_6793.jpg\"}, {\"directory\": \"Fortissimo_viko_zaal/jpg/thumb\", \"tags\": [\"jpg\", \"Fortissimo_viko_zaal\", \"thumb\"], \"fileName\": \"150321-IMG_7048.jpg\"}, {\"directory\": \"01-januari/verjaardag/shoot\", \"tags\": [\"verjaardag\", \"01-januari\", \"shoot\"], \"fileName\": \"IMG_6117.JPG\"}, {\"directory\": \"Fortissimo_viko_zaal/jpg\", \"tags\": [\"jpg\", \"Fortissimo_viko_zaal\"], \"fileName\": \"150321-IMG_6845.jpg\"}, {\"directory\": \"Fortissimo_viko_zaal\", \"tags\": [\"Fortissimo_viko_zaal\"], \"fileName\": \"IMG_6759.JPG\"}, {\"directory\": \"01-januari\", \"tags\": [\"01-januari\"], \"fileName\": \"IMG_6273.JPG\"}, {\"directory\": \"Fortissimo_viko_zaal/jpg\", \"tags\": [\"jpg\", \"Fortissimo_viko_zaal\"], \"fileName\": \"150321-IMG_6810.jpg\"}, {\"directory\": \"01-januari/verjaardag/shoot\", \"tags\": [\"shoot\", \"verjaardag\", \"01-januari\"], \"fileName\": \"IMG_6198.JPG\"}, {\"directory\": \"Fortissimo_viko_zaal\", \"tags\": [\"Fortissimo_viko_zaal\"], \"fileName\": \"IMG_6770.JPG\"}, {\"directory\": \"01-januari\", \"tags\": [\"01-januari\"], \"fileName\": \"IMG_6282.JPG\"}, {\"directory\": \"Fortissimo_viko_zaal/jpg\", \"tags\": [\"jpg\", \"Fortissimo_viko_zaal\"], \"fileName\": \"150321-IMG_6956.jpg\"}, {\"directory\": \"01-januari\", \"tags\": [\"01-januari\"], \"fileName\": \"IMG_6356.JPG\"}, {\"directory\": \"Fortissimo_viko_zaal\", \"tags\": [\"Fortissimo_viko_zaal\"], \"fileName\": \"IMG_6865.JPG\"}, {\"directory\": \"Fortissimo_viko_zaal/jpg/thumb\", \"tags\": [\"jpg\", \"Fortissimo_viko_zaal\", \"thumb\"], \"fileName\": \"150321-IMG_6920.jpg\"}, {\"directory\": \"01-januari\", \"tags\": [\"01-januari\"], \"fileName\": \"IMG_6365.JPG\"}, {\"directory\": \"Fortissimo_viko_zaal\", \"tags\": [\"Fortissimo_viko_zaal\"], \"fileName\": \"IMG_6881.JPG\"}, {\"directory\": \"Fortissimo_viko_zaal/jpg/thumb\", \"tags\": [\"thumb\", \"jpg\", \"Fortissimo_viko_zaal\"], \"fileName\": \"150321-IMG_7018.jpg\"}, {\"directory\": \"Fortissimo_viko_zaal/jpg/thumb\", \"tags\": [\"thumb\", \"Fortissimo_viko_zaal\", \"jpg\"], \"fileName\": \"150321-IMG_6991.jpg\"}, {\"directory\": \"01-januari/verjaardag/shoot\", \"tags\": [\"shoot\", \"verjaardag\", \"01-januari\"], \"fileName\": \"IMG_6090.JPG\"}, {\"directory\": \"Fortissimo_viko_zaal/jpg\", \"tags\": [\"jpg\", \"Fortissimo_viko_zaal\"], \"fileName\": \"150321-IMG_6770.jpg\"}, {\"directory\": \"01-januari/verjaardag/shoot\", \"tags\": [\"shoot\", \"01-januari\", \"verjaardag\"], \"fileName\": \"IMG_6099.JPG\"}, {\"directory\": \"Fortissimo_viko_zaal/jpg\", \"tags\": [\"jpg\", \"Fortissimo_viko_zaal\"], \"fileName\": \"150321-IMG_6779.jpg\"}, {\"directory\": \"01-januari\", \"tags\": [\"01-januari\"], \"fileName\": \"IMG_6228.JPG\"}, {\"directory\": \"uitzoeken!\", \"tags\": [\"uitzoeken!\"], \"fileName\": \"IMG_6577.JPG\"}, {\"directory\": \"uitzoeken!\", \"tags\": [\"uitzoeken!\"], \"fileName\": \"IMG_6587.JPG\"}, {\"directory\": \"01-januari\", \"tags\": [\"01-januari\"], \"fileName\": \"IMG_6237.JPG\"}, {\"directory\": \"01-januari/verjaardag/shoot\", \"tags\": [\"shoot\", \"verjaardag\", \"01-januari\"], \"fileName\": \"IMG_6185.JPG\"}, {\"directory\": \"Fortissimo_viko_zaal/jpg\", \"tags\": [\"Fortissimo_viko_zaal\", \"jpg\"], \"fileName\": \"150321-IMG_6892.jpg\"}, {\"directory\": \"01-januari\", \"tags\": [\"01-januari\"], \"fileName\": \"IMG_6310.JPG\"}, {\"directory\": \"Fortissimo_viko_zaal/jpg/thumb\", \"tags\": [\"thumb\", \"jpg\", \"Fortissimo_viko_zaal\"], \"fileName\": \"150321-IMG_6971.jpg\"}]\n"
     ]
    }
   ],
   "source": [
    "query_partial = [\n",
    "'MATCH (p:Photo)',\n",
    "'WITH p',\n",
    "'MATCH (p)-[:HAS_TAG]->(t)',\n",
    "'WITH p, collect(t.name) as t',\n",
    "'WITH p,t, rand() as random',\n",
    "'RETURN p.fileName as fileName, p.directory as directory, t as tags',\n",
    "'LIMIT 90'\n",
    "];\n",
    "query_result = graph.cypher.execute('\\n'.join(query_partial))\n",
    "photos = []\n",
    "\n",
    "for record in query_result:\n",
    "    photos.append({'fileName': record.fileName, 'directory': record.directory, 'tags': record.tags})\n",
    "\n",
    "print json.dumps(photos)"
   ]
  },
  {
   "cell_type": "code",
   "execution_count": 2,
   "metadata": {
    "collapsed": false
   },
   "outputs": [
    {
     "name": "stdout",
     "output_type": "stream",
     "text": [
      "Bob\n"
     ]
    }
   ],
   "source": [
    "from neo4j.v1 import GraphDatabase\n",
    "driver = GraphDatabase.driver(\"bolt://localhost\")\n",
    "session = driver.session()\n",
    "session.run(\"CREATE (a:Person {name:'Bob'})\")\n",
    "cursor = session.run(\"MATCH (a:Person) RETURN a.name AS name\")\n",
    "while cursor.next():\n",
    "    print(cursor[\"name\"])\n",
    "cursor.close()\n",
    "session.close()"
   ]
  },
  {
   "cell_type": "code",
   "execution_count": null,
   "metadata": {
    "collapsed": true
   },
   "outputs": [],
   "source": []
  }
 ],
 "metadata": {
  "kernelspec": {
   "display_name": "Python 2",
   "language": "python",
   "name": "python2"
  },
  "language_info": {
   "codemirror_mode": {
    "name": "ipython",
    "version": 2
   },
   "file_extension": ".py",
   "mimetype": "text/x-python",
   "name": "python",
   "nbconvert_exporter": "python",
   "pygments_lexer": "ipython2",
   "version": "2.7.6"
  }
 },
 "nbformat": 4,
 "nbformat_minor": 0
}
