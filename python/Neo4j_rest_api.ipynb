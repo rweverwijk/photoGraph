{
 "cells": [
  {
   "cell_type": "code",
   "execution_count": 39,
   "metadata": {
    "collapsed": false
   },
   "outputs": [],
   "source": [
    "import ujson as json\n",
    "import time\n",
    "import requests"
   ]
  },
  {
   "cell_type": "code",
   "execution_count": 40,
   "metadata": {
    "collapsed": false
   },
   "outputs": [],
   "source": [
    "query = {\n",
    "  \"statements\" : [ {\n",
    "    \"statement\" : \"match (t:Tag) return distinct t.name\",\n",
    "    \"resultDataContents\" : ['row', 'graph']\n",
    "  } ]\n",
    "}\n",
    "\n",
    "headers = {'Content-Type':'application/json', \n",
    "           'X-Stream': True,\n",
    "          'Authorization': 'bmVvNGo6dGVzdA=='}"
   ]
  },
  {
   "cell_type": "code",
   "execution_count": 41,
   "metadata": {
    "collapsed": false
   },
   "outputs": [
    {
     "data": {
      "text/plain": [
       "'{\"statements\":[{\"statement\":\"match (t:Tag) return distinct t.name\",\"resultDataContents\":[\"row\",\"graph\"]}]}'"
      ]
     },
     "execution_count": 41,
     "metadata": {},
     "output_type": "execute_result"
    }
   ],
   "source": [
    "json.dumps(query)"
   ]
  },
  {
   "cell_type": "code",
   "execution_count": 42,
   "metadata": {
    "collapsed": false
   },
   "outputs": [],
   "source": [
    "r = requests.post('http://localhost:7474/db/data/transaction/commit',\n",
    "             data=json.dumps(query), stream=True, headers = headers)"
   ]
  },
  {
   "cell_type": "code",
   "execution_count": 43,
   "metadata": {
    "collapsed": false
   },
   "outputs": [],
   "source": [
    "parsed = json.loads(r.text)"
   ]
  },
  {
   "cell_type": "code",
   "execution_count": 10,
   "metadata": {
    "collapsed": false
   },
   "outputs": [],
   "source": [
    "r2data = \"\"\n",
    "for chunk in r2.iter_content(1024):\n",
    "    r2data = r2data + chunk\n",
    "parsed = json.loads(r2data)"
   ]
  },
  {
   "cell_type": "code",
   "execution_count": 44,
   "metadata": {
    "collapsed": false
   },
   "outputs": [
    {
     "data": {
      "text/plain": [
       "{u'errors': [],\n",
       " u'results': [{u'columns': [u't.name'],\n",
       "   u'data': [{u'graph': {u'nodes': [], u'relationships': []}, u'row': [u'']},\n",
       "    {u'graph': {u'nodes': [], u'relationships': []}, u'row': [u'Users']},\n",
       "    {u'graph': {u'nodes': [], u'relationships': []},\n",
       "     u'row': [u'rvanweverwijk']},\n",
       "    {u'graph': {u'nodes': [], u'relationships': []}, u'row': [u'Pictures']},\n",
       "    {u'graph': {u'nodes': [], u'relationships': []}, u'row': [u'collegas']},\n",
       "    {u'graph': {u'nodes': [], u'relationships': []}, u'row': [u'2014']},\n",
       "    {u'graph': {u'nodes': [], u'relationships': []}, u'row': [u'03_maart']},\n",
       "    {u'graph': {u'nodes': [], u'relationships': []}, u'row': [u'04_april']},\n",
       "    {u'graph': {u'nodes': [], u'relationships': []},\n",
       "     u'row': [u'05-24-fortissimo']},\n",
       "    {u'graph': {u'nodes': [], u'relationships': []},\n",
       "     u'row': [u'09_september']},\n",
       "    {u'graph': {u'nodes': [], u'relationships': []}, u'row': [u'05_mei']},\n",
       "    {u'graph': {u'nodes': [], u'relationships': []}, u'row': [u'jpg']},\n",
       "    {u'graph': {u'nodes': [], u'relationships': []},\n",
       "     u'row': [u'shoot Miriam']},\n",
       "    {u'graph': {u'nodes': [], u'relationships': []}, u'row': [u'06_juni']},\n",
       "    {u'graph': {u'nodes': [], u'relationships': []}, u'row': [u'zwanger']},\n",
       "    {u'graph': {u'nodes': [], u'relationships': []}, u'row': [u'2015']},\n",
       "    {u'graph': {u'nodes': [], u'relationships': []}, u'row': [u'lindy']},\n",
       "    {u'graph': {u'nodes': [], u'relationships': []}, u'row': [u'last_import']},\n",
       "    {u'graph': {u'nodes': [], u'relationships': []}, u'row': [u'01-januari']},\n",
       "    {u'graph': {u'nodes': [], u'relationships': []}, u'row': [u'12_december']},\n",
       "    {u'graph': {u'nodes': [], u'relationships': []},\n",
       "     u'row': [u'uitnodiging_5jaar_getrouwd']},\n",
       "    {u'graph': {u'nodes': [], u'relationships': []}, u'row': [u'uitzoeken!']},\n",
       "    {u'graph': {u'nodes': [], u'relationships': []}, u'row': [u'koningsdag']},\n",
       "    {u'graph': {u'nodes': [], u'relationships': []},\n",
       "     u'row': [u'Geboorte Jet']},\n",
       "    {u'graph': {u'nodes': [], u'relationships': []}, u'row': [u'Geboorte']},\n",
       "    {u'graph': {u'nodes': [], u'relationships': []}, u'row': [u'bezoek']},\n",
       "    {u'graph': {u'nodes': [], u'relationships': []}, u'row': [u'nieuw']},\n",
       "    {u'graph': {u'nodes': [], u'relationships': []}, u'row': [u'overig']},\n",
       "    {u'graph': {u'nodes': [], u'relationships': []}, u'row': [u'korfbal']},\n",
       "    {u'graph': {u'nodes': [], u'relationships': []},\n",
       "     u'row': [u'Fortissimo_viko_zaal']},\n",
       "    {u'graph': {u'nodes': [], u'relationships': []}, u'row': [u'kerst']},\n",
       "    {u'graph': {u'nodes': [], u'relationships': []}, u'row': [u'vakantie']},\n",
       "    {u'graph': {u'nodes': [], u'relationships': []}, u'row': [u'centerparks']},\n",
       "    {u'graph': {u'nodes': [], u'relationships': []}, u'row': [u'zendmast']},\n",
       "    {u'graph': {u'nodes': [], u'relationships': []}, u'row': [u'neo4j']},\n",
       "    {u'graph': {u'nodes': [], u'relationships': []}, u'row': [u'meetup']},\n",
       "    {u'graph': {u'nodes': [], u'relationships': []}, u'row': [u'zomer']},\n",
       "    {u'graph': {u'nodes': [], u'relationships': []}, u'row': [u'italie']},\n",
       "    {u'graph': {u'nodes': [], u'relationships': []}, u'row': [u'shoot']},\n",
       "    {u'graph': {u'nodes': [], u'relationships': []}, u'row': [u'verjaardag']},\n",
       "    {u'graph': {u'nodes': [], u'relationships': []}, u'row': [u'jpg-thunb']},\n",
       "    {u'graph': {u'nodes': [], u'relationships': []}, u'row': [u'thumb']}]}]}"
      ]
     },
     "execution_count": 44,
     "metadata": {},
     "output_type": "execute_result"
    }
   ],
   "source": [
    "parsed"
   ]
  },
  {
   "cell_type": "code",
   "execution_count": null,
   "metadata": {
    "collapsed": true
   },
   "outputs": [],
   "source": []
  }
 ],
 "metadata": {
  "kernelspec": {
   "display_name": "Python 2",
   "language": "python",
   "name": "python2"
  },
  "language_info": {
   "codemirror_mode": {
    "name": "ipython",
    "version": 2
   },
   "file_extension": ".py",
   "mimetype": "text/x-python",
   "name": "python",
   "nbconvert_exporter": "python",
   "pygments_lexer": "ipython2",
   "version": "2.7.6"
  }
 },
 "nbformat": 4,
 "nbformat_minor": 0
}
