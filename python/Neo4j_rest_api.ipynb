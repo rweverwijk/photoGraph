{
 "cells": [
  {
   "cell_type": "code",
   "execution_count": 1,
   "metadata": {
    "collapsed": false
   },
   "outputs": [],
   "source": [
    "import ujson as json\n",
    "import time\n",
    "import requests"
   ]
  },
  {
   "cell_type": "code",
   "execution_count": 7,
   "metadata": {
    "collapsed": false
   },
   "outputs": [],
   "source": [
    "query = {\n",
    "  \"statements\" : [ {\n",
    "    \"statement\" : \"match (p:Photo)-->(t) return distinct t.name\",\n",
    "    \"resultDataContents\" : ['row', 'graph']\n",
    "  } ]\n",
    "}\n",
    "headers = {'Content-Type':'application/json', \n",
    "           'X-Stream': True,\n",
    "          'Authorization': 'bmVvNGo6dGVzdA=='}"
   ]
  },
  {
   "cell_type": "code",
   "execution_count": 8,
   "metadata": {
    "collapsed": false
   },
   "outputs": [
    {
     "data": {
      "text/plain": [
       "'{\"statements\":[{\"statement\":\"match (p:Photo)-->(t) return distinct t.name\",\"resultDataContents\":[\"row\",\"graph\"]}]}'"
      ]
     },
     "execution_count": 8,
     "metadata": {},
     "output_type": "execute_result"
    }
   ],
   "source": [
    "json.dumps(query)"
   ]
  },
  {
   "cell_type": "code",
   "execution_count": 9,
   "metadata": {
    "collapsed": false
   },
   "outputs": [
    {
     "name": "stdout",
     "output_type": "stream",
     "text": [
      "0.0436458587646\n"
     ]
    }
   ],
   "source": [
    "now = time.time()\n",
    "r2 = requests.post('http://localhost:7474/db/data/transaction/commit',\n",
    "             data=json.dumps(query), stream=True, headers = headers)\n",
    "print(time.time() - now)"
   ]
  },
  {
   "cell_type": "code",
   "execution_count": 10,
   "metadata": {
    "collapsed": false
   },
   "outputs": [],
   "source": [
    "r2data = \"\"\n",
    "for chunk in r2.iter_content(1024):\n",
    "    r2data = r2data + chunk\n",
    "parsed = json.loads(r2data)"
   ]
  },
  {
   "cell_type": "code",
   "execution_count": 5,
   "metadata": {
    "collapsed": false
   },
   "outputs": [],
   "source": [
    "parsed = json.loads(r2.text)"
   ]
  },
  {
   "cell_type": "code",
   "execution_count": 11,
   "metadata": {
    "collapsed": false
   },
   "outputs": [
    {
     "data": {
      "text/plain": [
       "{u'errors': [],\n",
       " u'results': [{u'columns': [u't.name'],\n",
       "   u'data': [{u'graph': {u'nodes': [], u'relationships': []},\n",
       "     u'row': [u'uitnodiging_5jaar_getrouwd']},\n",
       "    {u'graph': {u'nodes': [], u'relationships': []}, u'row': [u'01-januari']},\n",
       "    {u'graph': {u'nodes': [], u'relationships': []}, u'row': [u'uitzoeken!']},\n",
       "    {u'graph': {u'nodes': [], u'relationships': []},\n",
       "     u'row': [u'Fortissimo_viko_zaal']},\n",
       "    {u'graph': {u'nodes': [], u'relationships': []}, u'row': [u'jpg']},\n",
       "    {u'graph': {u'nodes': [], u'relationships': []}, u'row': [u'jpg-thunb']},\n",
       "    {u'graph': {u'nodes': [], u'relationships': []}, u'row': [u'shoot']},\n",
       "    {u'graph': {u'nodes': [], u'relationships': []}, u'row': [u'verjaardag']},\n",
       "    {u'graph': {u'nodes': [], u'relationships': []}, u'row': [u'thumb']}]}]}"
      ]
     },
     "execution_count": 11,
     "metadata": {},
     "output_type": "execute_result"
    }
   ],
   "source": [
    "parsed"
   ]
  },
  {
   "cell_type": "code",
   "execution_count": null,
   "metadata": {
    "collapsed": true
   },
   "outputs": [],
   "source": []
  }
 ],
 "metadata": {
  "kernelspec": {
   "display_name": "Python 2",
   "language": "python",
   "name": "python2"
  },
  "language_info": {
   "codemirror_mode": {
    "name": "ipython",
    "version": 2
   },
   "file_extension": ".py",
   "mimetype": "text/x-python",
   "name": "python",
   "nbconvert_exporter": "python",
   "pygments_lexer": "ipython2",
   "version": "2.7.6"
  }
 },
 "nbformat": 4,
 "nbformat_minor": 0
}
